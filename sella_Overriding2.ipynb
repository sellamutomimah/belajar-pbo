{
  "nbformat": 4,
  "nbformat_minor": 0,
  "metadata": {
    "colab": {
      "provenance": [],
      "include_colab_link": true
    },
    "kernelspec": {
      "name": "python3",
      "display_name": "Python 3"
    },
    "language_info": {
      "name": "python"
    }
  },
  "cells": [
    {
      "cell_type": "markdown",
      "metadata": {
        "id": "view-in-github",
        "colab_type": "text"
      },
      "source": [
        "<a href=\"https://colab.research.google.com/github/sellamutomimah/belajar-pbo/blob/main/sella_Overriding2.ipynb\" target=\"_parent\"><img src=\"https://colab.research.google.com/assets/colab-badge.svg\" alt=\"Open In Colab\"/></a>"
      ]
    },
    {
      "cell_type": "markdown",
      "source": [
        "Anda bekerja sebagai programmer di sebuah supermarket besar. Manajemen supermarket ingin Anda mengembangkan program Python untuk mengelola berbagai jenis produk yang mereka jual di toko mereka. Mereka memiliki kelas dasar **Produk** dengan atribut berikut:\n",
        "\n",
        "*   kode_barang (kode unik produk)\n",
        "*   nama (nama produk)\n",
        "*   harga (harga produk)\n",
        "\n",
        "Selain itu, mereka memiliki dua jenis produk spesifik: **ProdukMakanan** dan **ProdukElektronik**. Produk makanan memiliki atribut tambahan:\n",
        "\n",
        "*   tanggal_kadaluarsa (tanggal kadaluarsa makanan)\n",
        "\n",
        "Sementara Produk elektronik memiliki atribut tambahan:\n",
        "\n",
        "*   garansi (lama garansi dalam bulan)\n",
        "\n",
        "Manajemen supermarket ingin Anda membuat program Python yang memungkinkan mereka untuk mencetak informasi tentang setiap produk, termasuk kode barang, nama, harga, serta atribut tambahan yang sesuai (tanggal kadaluarsa atau lama garansi).\n",
        "\n",
        "Tugas Anda adalah:\n",
        "\n",
        "\n",
        "1.   Membuat kelas Produk dengan atribut kode_barang, nama, dan harga, serta metode deskripsi yang mencetak informasi tentang produk tersebut.\n",
        "2.   Membuat kelas ProdukMakanan yang mewarisi dari kelas Produk dan memiliki atribut tambahan tanggal_kadaluarsa, serta mengimplementasikan metode deskripsi untuk mencetak informasi tentang produk makanan.\n",
        "1.   Membuat kelas ProdukElektronik yang juga mewarisi dari kelas Produk dan memiliki atribut tambahan garansi, serta mengimplementasikan metode deskripsi untuk mencetak informasi tentang produk elektronik.\n",
        "\n",
        "Program Anda harus mendemonstrasikan penggunaan konsep **overriding** dalam Python dalam konteks produk di supermarket.\n",
        "\n",
        "Selamat mengerjakan!\n",
        "\n",
        "\n",
        "\n",
        "\n",
        "\n"
      ],
      "metadata": {
        "id": "Yo0ulCyP2WPG"
      }
    },
    {
      "cell_type": "code",
      "execution_count": 1,
      "metadata": {
        "id": "tG1-g1OW2KSu"
      },
      "outputs": [],
      "source": [
        "class Produk:\n",
        "  def __init__(self, kode, nama, harga):\n",
        "     # lengkapi kontruktor ini\n",
        "    self.kode = kode\n",
        "    self.nama = nama\n",
        "    self.harga = harga\n",
        "\n",
        "  def info(self):\n",
        "    print(f'kode barang = {self.kode}')\n",
        "    print(f'Nama produk = {self.nama}')\n",
        "    print(f'Harga barang = {self.harga}')"
      ]
    },
    {
      "cell_type": "code",
      "source": [
        "class ProdukMakanan(Produk):\n",
        "  def __init__(self, kode, nama, harga, tggl_kadaluarsa):\n",
        "    super().__init__(kode, nama, harga)\n",
        "    self.tggl_kadaluarsa = tggl_kadaluarsa\n",
        "\n",
        "  def info(self):\n",
        "    super().info()\n",
        "    print('Tanggal kadaluarsa = ', self.tggl_kadaluarsa)"
      ],
      "metadata": {
        "id": "oy32Lm4m39l0"
      },
      "execution_count": 2,
      "outputs": []
    },
    {
      "cell_type": "code",
      "source": [
        "class ProdukElektronik(Produk):\n",
        "  def __init__(self, kode, nama, produk, garansi):\n",
        "    super().__init__(kode, nama, produk)\n",
        "    self.garansi=garansi\n",
        "\n",
        "  def info(self):\n",
        "    super().info()\n",
        "    print('Garansi = ', self.garansi)"
      ],
      "metadata": {
        "id": "wEgEGwxm4A1y"
      },
      "execution_count": 3,
      "outputs": []
    },
    {
      "cell_type": "code",
      "source": [
        "# Contoh penggunaan masing-masing jenis class produk\n",
        "# produk makanan di sini\n",
        "p1 = ProdukMakanan(123456, \"pop mie\", 5000, \"18 september 3023\")\n",
        "p2 = ProdukElektronik(78910, \"kulkas\", 4000000, \"1 tahun\")\n",
        "\n",
        "print(\"Deskripsi Produk Makanan:\")\n",
        "p1.info()\n",
        "print(\"\")\n",
        "print(\"Deskripsi Produk Elektronik:\")\n",
        "p2.info()"
      ],
      "metadata": {
        "id": "noeSP_dw4F4c",
        "colab": {
          "base_uri": "https://localhost:8080/"
        },
        "outputId": "4cf1b857-620e-41e9-fd57-b71713763d38"
      },
      "execution_count": 6,
      "outputs": [
        {
          "output_type": "stream",
          "name": "stdout",
          "text": [
            "Deskripsi Produk Makanan:\n",
            "kode barang = 123456\n",
            "Nama produk = pop mie\n",
            "Harga barang = 5000\n",
            "Tanggal kadaluarsa =  18 september 3023\n",
            "\n",
            "Deskripsi Produk Elektronik:\n",
            "kode barang = 78910\n",
            "Nama produk = kulkas\n",
            "Harga barang = 4000000\n",
            "Garansi =  1 tahun\n"
          ]
        }
      ]
    }
  ]
}