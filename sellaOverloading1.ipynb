{
  "nbformat": 4,
  "nbformat_minor": 0,
  "metadata": {
    "colab": {
      "provenance": [],
      "include_colab_link": true
    },
    "kernelspec": {
      "name": "python3",
      "display_name": "Python 3"
    },
    "language_info": {
      "name": "python"
    }
  },
  "cells": [
    {
      "cell_type": "markdown",
      "metadata": {
        "id": "view-in-github",
        "colab_type": "text"
      },
      "source": [
        "<a href=\"https://colab.research.google.com/github/sellamutomimah/belajar-pbo/blob/main/sellaOverloading1.ipynb\" target=\"_parent\"><img src=\"https://colab.research.google.com/assets/colab-badge.svg\" alt=\"Open In Colab\"/></a>"
      ]
    },
    {
      "cell_type": "code",
      "execution_count": 11,
      "metadata": {
        "id": "cytAUNWzM1-6"
      },
      "outputs": [],
      "source": [
        "#Buat Perkalian yang memiliki Sebuah fungsi dangan nama Hitung\n",
        "class perkalian:\n",
        "    # method hasil() dengan variasi parameter\n",
        "    def hasil(self, *args):\n",
        "        jumlah = 1\n",
        "        for angka in args:\n",
        "            jumlah *= angka\n",
        "        print(jumlah)\n"
      ]
    },
    {
      "cell_type": "code",
      "source": [
        "#Buat main program\n",
        "coba = perkalian()\n",
        "#Panggil fungsi Hitung untuk menghitung 2 parameter\n",
        "coba.hasil(6, 7)\n",
        "#Panggil fungsi Hitung untuk menghitung 3 parameter\n",
        "coba.hasil(1, 10, 2)\n",
        "#Panggil fungsi Hitung untuk menghitung 4 parameter\n",
        "coba.hasil(2, 2, 6, 4)"
      ],
      "metadata": {
        "id": "W9hN-kX7PDUI",
        "colab": {
          "base_uri": "https://localhost:8080/"
        },
        "outputId": "d8a97feb-9caa-443e-d2ea-525fdcdaa817"
      },
      "execution_count": 12,
      "outputs": [
        {
          "output_type": "stream",
          "name": "stdout",
          "text": [
            "42\n",
            "20\n",
            "96\n"
          ]
        }
      ]
    }
  ]
}